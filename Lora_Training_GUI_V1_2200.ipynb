{
  "nbformat": 4,
  "nbformat_minor": 0,
  "metadata": {
    "colab": {
      "provenance": [],
      "gpuType": "T4",
      "include_colab_link": true
    },
    "kernelspec": {
      "name": "python3",
      "display_name": "Python 3"
    },
    "language_info": {
      "name": "python"
    },
    "accelerator": "GPU"
  },
  "cells": [
    {
      "cell_type": "markdown",
      "metadata": {
        "id": "view-in-github",
        "colab_type": "text"
      },
      "source": [
        "<a href=\"https://colab.research.google.com/github/monsterhunters/Lora-Training-GUI/blob/main/Lora_Training_GUI_V1_2200_(1).ipynb\" target=\"_parent\"><img src=\"https://colab.research.google.com/assets/colab-badge.svg\" alt=\"Open In Colab\"/></a>"
      ]
    },
    {
      "cell_type": "markdown",
      "source": [
        "GUI Based Ver 22.0.0\n",
        "---\n",
        "\n",
        "📌 **This notebook has been updated [here](https://github.com/monsterhunters/Lora-Training-GUI.git)!**\n",
        "\n",
        "🖋 **Author**: [kyawkaung](https://github.com/jhj0517/Whisper-WebUI/blob/master/notebook/whisper-webui.ipynb)\n",
        "\n",
        "😎 **Support the Project**:\n",
        "\n",
        "If you find this project useful, please consider supporting it:\n",
        "\n",
        "<a href=\"https://ko-fi.com/kyawkaung\" target=\"_blank\">\n",
        "    <img src=\"https://storage.ko-fi.com/cdn/kofi2.png?v=3\" alt=\"Buy Me a Coffee at ko-fi.com\" height=\"36\">\n",
        "</a>\n",
        "\n",
        "---"
      ],
      "metadata": {
        "id": "n1xJLxZ1YljF"
      }
    },
    {
      "cell_type": "code",
      "source": [
        "#@title # **Install** 🚀\n",
        "#@markdown Kohya SS GUI by Codemaster\n",
        "\n",
        "from IPython.display import clear_output, display, HTML\n",
        "import os, subprocess, time, glob\n",
        "import zipfile\n",
        "import shutil\n",
        "from datetime import timedelta\n",
        "from google.colab import drive\n",
        "from IPython.utils import capture\n",
        "from subprocess import getoutput\n",
        "from urllib.parse import unquote\n",
        "from google.colab.output import eval_js\n",
        "\n",
        "print('Installing dependencies')\n",
        "with capture.capture_output() as cap:\n",
        "    !pip install dadaptation==3.1 diffusers[torch]==0.21.2 easygui==0.98.3 einops==0.6.0 fairscale==0.4.13\n",
        "    !pip install ftfy==6.1.1 lion-pytorch==0.0.6 lycoris_lora==1.8.3 open-clip-torch==2.20.0 prodigyopt==1.0 pytorch-lightning==1.9.0\n",
        "    !pip install safetensors==0.3.1 timm==0.6.12 tk==0.1.0 transformers==4.30.2 voluptuous==0.13.1 wandb==0.15.11\n",
        "    !pip install gradio==3.36.1 omegaconf accelerate==0.23.0 aiofiles==23.2.1 invisible-watermark==0.2.0\n",
        "    !pip install tensorboard==2.12.3 tensorflow==2.12.0\n",
        "\n",
        "print('Installing torch & xformers')\n",
        "with capture.capture_output() as cap:\n",
        "    !pip3 uninstall -y torch torchvision torchaudio triton\n",
        "    !pip install torch==2.1.2 torchvision==0.16.2 torchaudio==2.1.2 --index-url https://download.pytorch.org/whl/cu118\n",
        "    !pip install https://download.pytorch.org/whl/cu118/xformers-0.0.23.post1%2Bcu118-cp310-cp310-manylinux2014_x86_64.whl#sha256=dc5f828dbe187c1bf69d41853a55170d2506ff4c40fc0dfbea3bc7e18daed2e5\n",
        "\n",
        "print('Setting Cuda')\n",
        "with capture.capture_output() as cap:\n",
        "    %cd /content/\n",
        "    !git clone -b 0.41.0 https://github.com/TimDettmers/bitsandbytes\n",
        "    %cd /content/bitsandbytes\n",
        "    !CUDA_VERSION=118 make cuda11x\n",
        "    !python setup.py install\n",
        "\n",
        "print('Almost finish....')\n",
        "with capture.capture_output() as cap:\n",
        "    %cd /content\n",
        "    !git clone -b v22.0.0 https://github.com/bmaltais/kohya_ss.git\n",
        "    %cd /content/kohya_ss\n",
        "    !pip install -e .\n",
        "    #!git clone https://github.com/kohya-ss/sd-scripts.git\n",
        "\n",
        "\n",
        "\n",
        "!python kohya_gui.py --share --headless"
      ],
      "metadata": {
        "id": "fZir6kTFJsqx",
        "cellView": "form"
      },
      "execution_count": null,
      "outputs": []
    }
  ]
}
