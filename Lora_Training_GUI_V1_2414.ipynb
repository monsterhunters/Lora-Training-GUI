{
  "nbformat": 4,
  "nbformat_minor": 0,
  "metadata": {
    "colab": {
      "provenance": [],
      "gpuType": "T4",
      "include_colab_link": true
    },
    "kernelspec": {
      "name": "python3",
      "display_name": "Python 3"
    },
    "language_info": {
      "name": "python"
    },
    "accelerator": "GPU"
  },
  "cells": [
    {
      "cell_type": "markdown",
      "metadata": {
        "id": "view-in-github",
        "colab_type": "text"
      },
      "source": [
        "<a href=\"https://colab.research.google.com/github/monsterhunters/Lora-Training-GUI/blob/main/Lora_Training_GUI_V1_2414.ipynb\" target=\"_parent\"><img src=\"https://colab.research.google.com/assets/colab-badge.svg\" alt=\"Open In Colab\"/></a>"
      ]
    },
    {
      "cell_type": "markdown",
      "source": [
        "Kohya SS GUI Based Ver 24.1.1\n",
        "---\n",
        "\n",
        "📌 **This notebook has been updated [here](https://github.com/monsterhunters/Lora-Training-GUI.git)!**\n",
        "\n",
        "🖋 **Author**: [kyawkaung](https://colab.research.google.com/github/monsterhunters/Lora-Training-GUI/blob/main/Lora_Training_GUI_V1_2411.ipynb)\n",
        "\n",
        "😎 **Support the Project**:\n",
        "\n",
        "If you find this project useful, please consider supporting it:\n",
        "\n",
        "<a href=\"https://ko-fi.com/kyawkaung\" target=\"_blank\">\n",
        "    <img src=\"https://storage.ko-fi.com/cdn/kofi2.png?v=3\" alt=\"Buy Me a Coffee at ko-fi.com\" height=\"36\">\n",
        "</a>\n",
        "\n",
        "---"
      ],
      "metadata": {
        "id": "n1xJLxZ1YljF"
      }
    },
    {
      "cell_type": "code",
      "source": [
        "#@title # Install 🚀\n",
        "#@markdown Kohya SS GUI by Codemaster\n",
        "mount_gdrive = True # @param {type:\"boolean\"}\n",
        "\n",
        "\n",
        "import os, subprocess, time, glob, zipfile, shutil\n",
        "from IPython.display import clear_output, display, HTML\n",
        "from datetime import timedelta\n",
        "from google.colab import drive\n",
        "from IPython.utils import capture\n",
        "from subprocess import getoutput\n",
        "from urllib.parse import unquote\n",
        "from google.colab.output import eval_js\n",
        "import pkg_resources\n",
        "import time\n",
        "try:\n",
        "  start_colab\n",
        "except:\n",
        "  start_colab = int(time.time())-5\n",
        "\n",
        "start_install = int(time.time())\n",
        "\n",
        "print('Info - The whole process may take up to 10 min. So, please be patient...')\n",
        "\n",
        "def mountGdrive():\n",
        "    print('Mounting Gdrive')\n",
        "    from google.colab import drive\n",
        "    drive.mount('/content/drive')\n",
        "\n",
        "if mount_gdrive:\n",
        "    mountGdrive()\n",
        "\n",
        "print('Installing torch & xformers')\n",
        "with capture.capture_output() as cap:\n",
        "    !pip3 uninstall -y torch torchvision torchaudio triton\n",
        "    !pip install -q torch==2.1.2 torchvision==0.16.2 torchaudio==2.1.2 --index-url https://download.pytorch.org/whl/cu118\n",
        "    !pip install -q https://download.pytorch.org/whl/cu118/xformers-0.0.23.post1%2Bcu118-cp310-cp310-manylinux2014_x86_64.whl#sha256=dc5f828dbe187c1bf69d41853a55170d2506ff4c40fc0dfbea3bc7e18daed2e5\n",
        "\n",
        "print('Installing dependencies')\n",
        "with capture.capture_output() as cap:\n",
        "    %cd /content\n",
        "    !git clone -b v24.1.4 https://github.com/bmaltais/kohya_ss.git\n",
        "    %cd /content/kohya_ss\n",
        "    !pip install -q accelerate==0.25.0 aiofiles==23.2.1 altair==4.2.2 dadaptation==3.1 diffusers[torch]==0.25.0 easygui==0.98.3\n",
        "    !pip install -q einops==0.7.0 fairscale==0.4.13 ftfy==6.1.1 gradio==4.26.0 huggingface-hub==0.20.1 imagesize==1.4.1\n",
        "    !pip install -q invisible-watermark==0.2.0 lion-pytorch==0.0.6 lycoris_lora==2.2.0.post3 omegaconf==2.3.0 onnx==1.15.0\n",
        "    !pip install -q prodigyopt==1.0 protobuf==3.20.3 open-clip-torch==2.20.0 opencv-python==4.7.0.68 prodigyopt==1.0\n",
        "    !pip install -q pytorch-lightning==1.9.0 rich>=13.7.1 safetensors==0.4.2 scipy==1.11.4 timm==0.6.12 tk==0.1.0 toml==0.10.2\n",
        "    !pip install -q transformers==4.38.0 voluptuous==0.13.1 wandb==0.15.11 scipy==1.11.4\n",
        "    !pip install -q tensorboard==2.15.2 tensorflow==2.15.0.post1 onnxruntime-gpu==1.17.1\n",
        "\n",
        "print('Setting Cuda')\n",
        "with capture.capture_output() as cap:\n",
        "    %cd /content\n",
        "    !git clone -b 0.41.0 https://github.com/TimDettmers/bitsandbytes\n",
        "    %cd /content/bitsandbytes\n",
        "    !CUDA_VERSION=118 make cuda11x\n",
        "    !python setup.py install\n",
        "    !wget https://github.com/camenduru/gperftools/releases/download/v1.0/libtcmalloc_minimal.so.4 -O /content/libtcmalloc_minimal.so.4\n",
        "    %env LD_PRELOAD=/content/libtcmalloc_minimal.so.\n",
        "    os.environ[\"SAFETENSORS_FAST_GPU\"]='1'\n",
        "    os.environ[\"CUDA_MODULE_LOADING\"]=\"LAZY\"\n",
        "    os.environ[\"colab_url\"] = eval_js(\"google.colab.kernel.proxyPort(7860, {'cache': false})\")\n",
        "    os.environ[\"TF_CPP_MIN_LOG_LEVEL\"] = \"3\"\n",
        "    os.environ[\"PYTHONWARNINGS\"] = \"ignore\"\n",
        "    # %env PYTHONDONTWRITEBYTECODE=1\n",
        "    os.environ[\"TCMALLOC_AGGRESSIVE_DECOMMIT\"] = \"t\"\n",
        "\n",
        "print('Almost finish....')\n",
        "with capture.capture_output() as cap:\n",
        "    %cd /content/kohya_ss\n",
        "    !git clone https://github.com/kohya-ss/sd-scripts.git\n",
        "    !wget https://raw.githubusercontent.com/monsterhunters/stablecode/master/cf.py\n",
        "    !python cf.py\n",
        "    !pip install -e ./sd-scripts\n",
        "    #!git clone https://github.com/kohya-ss/sd-scripts.git\n",
        "\n",
        "install_time = timedelta(seconds=time.time()-start_install)\n",
        "print(\"\\r🚀 Finished unpacking. Took\",\"%02d:%02d:%02d ⚡\\n\" % (install_time.seconds / 3600, (install_time.seconds / 60) % 60, install_time.seconds % 60), end='', flush=True)\n",
        "\n",
        "\n"
      ],
      "metadata": {
        "cellView": "form",
        "id": "8mOI-TrsLqkl"
      },
      "execution_count": null,
      "outputs": []
    },
    {
      "cell_type": "code",
      "source": [
        "#@title # Run 🚀\n",
        "import subprocess\n",
        "import threading\n",
        "import time\n",
        "import socket\n",
        "\n",
        "def iframe_thread(port):\n",
        "    while True:\n",
        "        time.sleep(0.5)\n",
        "        sock = socket.socket(socket.AF_INET, socket.SOCK_STREAM)\n",
        "        result = sock.connect_ex(('127.0.0.1', port))\n",
        "        if result == 0:\n",
        "            break\n",
        "        sock.close()\n",
        "    print(\"\\nUI finished loading, trying to launch (if it gets stuck here, it is having issues)\\n\")\n",
        "\n",
        "    p = subprocess.Popen([\"wex\", \"tunnel\", \"--url\", \"http://127.0.0.1:{}\".format(port)], stdout=subprocess.PIPE, stderr=subprocess.PIPE)\n",
        "    for line in p.stderr:\n",
        "        l = line.decode()\n",
        "        if \"trycloudflare.com \" in l:\n",
        "            print(\"This is the URL to access UI:\", l[l.find(\"http\"):], end='')\n",
        "\n",
        "# Start the iframe_thread function in a separate thread\n",
        "threading.Thread(target=iframe_thread, daemon=True, args=(7860,)).start()\n",
        "\n",
        "# Run the kohya_gui.py script and redirect its output to both the terminal and a file\n",
        "with subprocess.Popen([\"python\", \"kohya_gui.py\", \"--headless\"], stdout=subprocess.PIPE, stderr=subprocess.STDOUT, universal_newlines=True) as process:\n",
        "    for line in process.stdout:\n",
        "        print(line, end='')  # Print output to terminal\n",
        "        with open('ss.log', 'a') as f:\n",
        "            f.write(line)  # Write output to file\n"
      ],
      "metadata": {
        "cellView": "form",
        "id": "Mw8v_Hv_5LBF"
      },
      "execution_count": null,
      "outputs": []
    },
    {
      "cell_type": "code",
      "source": [
        "###@title # Zipfile to download dataset\n",
        "zip_file_path = \"\" # @param {type:\"string\"}\n",
        "extracted_folder_path = \"\" # @param {type:\"string\"}\n",
        "\n",
        "\n",
        "\n",
        "import zipfile\n",
        "import os\n",
        "\n",
        "\n",
        "# Create a directory to extract the contents of the zip file\n",
        "os.makedirs(extracted_folder_path, exist_ok=True)\n",
        "\n",
        "# Extract the zip file\n",
        "with zipfile.ZipFile(zip_file_path, 'r') as zip_ref:\n",
        "    zip_ref.extractall(extracted_folder_path)\n",
        "\n",
        "print(\"Extraction complete.\")\n"
      ],
      "metadata": {
        "cellView": "form",
        "id": "Ta0jp2pVhvOd"
      },
      "execution_count": null,
      "outputs": []
    }
  ]
}